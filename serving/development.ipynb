{
 "cells": [
  {
   "cell_type": "code",
   "execution_count": 1,
   "metadata": {},
   "outputs": [],
   "source": [
    "import os\n",
    "import pandas as pd\n",
    "from tensorflow.keras.models import load_model\n",
    "from transformer_layers import *"
   ]
  },
  {
   "cell_type": "code",
   "execution_count": 2,
   "metadata": {},
   "outputs": [],
   "source": [
    "T = 100\n",
    "horizon = 4   # 0=10, 1=20, 2=30, 3=50, 4=100\n",
    "#start_capital = 10000\n",
    "day = 1\n",
    "asset = 1"
   ]
  },
  {
   "cell_type": "code",
   "execution_count": 3,
   "metadata": {},
   "outputs": [],
   "source": [
    "current_path = os.getcwd()\n",
    "deeplob_model = load_model('static\\deeplob_serving_model.h5', custom_objects={'PositionalEncodingLayer': PositionalEncodingLayer,\n",
    "                                                                              \"MultiHeadSelfAttention\": MultiHeadSelfAttention,\n",
    "                                                                              \"TransformerTransition\": TransformerTransition})"
   ]
  },
  {
   "cell_type": "code",
   "execution_count": 4,
   "metadata": {},
   "outputs": [],
   "source": [
    "def load_lob_data(day, T=T):\n",
    "    lob_data = np.loadtxt(f\"static/data/lobdata_day_{day}.txt\")\n",
    "    lob_data = np.array(lob_data[:40, :].T)\n",
    "    \n",
    "    best_asks = lob_data[:,0]\n",
    "    difference_best_asks = best_asks - np.roll(best_asks, 1)\n",
    "    split = (abs(difference_best_asks) > 0.03).nonzero()[0]\n",
    "    split = np.append(split, len(best_asks))\n",
    "\n",
    "    lob_data_assets = {\"all\": lob_data}\n",
    "    for i in range(5):\n",
    "        lob_data_assets[f\"asset_{i+1}\"] = lob_data[split[i]:split[i+1], :]\n",
    "        \n",
    "    return lob_data_assets"
   ]
  },
  {
   "cell_type": "code",
   "execution_count": 5,
   "metadata": {},
   "outputs": [],
   "source": [
    "def predict(lob_data, T=T, horizon=horizon):\n",
    "    [N, D] = lob_data.shape\n",
    "    df = np.array(lob_data)\n",
    "    input_data = np.zeros((N - T + 1, T, D))\n",
    "    for i in range(T, N + 1):\n",
    "        input_data[i - T] = df[i - T:i, :]\n",
    "    input_data = input_data.reshape(input_data.shape + (1,))\n",
    "\n",
    "    predictions = deeplob_model.predict(input_data)\n",
    "    predicted_directions = np.argmax(predictions[:, horizon], axis=1)\n",
    "\n",
    "    return predicted_directions"
   ]
  },
  {
   "cell_type": "code",
   "execution_count": 6,
   "metadata": {},
   "outputs": [],
   "source": [
    "def backtester(lob_data, predictions):\n",
    "    \n",
    "    \n",
    "    return backtest_df, backtest_kpis"
   ]
  },
  {
   "cell_type": "code",
   "execution_count": 7,
   "metadata": {},
   "outputs": [],
   "source": [
    "lob_data = load_lob_data(2)"
   ]
  },
  {
   "cell_type": "code",
   "execution_count": 8,
   "metadata": {},
   "outputs": [],
   "source": [
    "preds = predict(lob_data[f\"asset_{asset}\"])"
   ]
  },
  {
   "cell_type": "code",
   "execution_count": 36,
   "metadata": {},
   "outputs": [
    {
     "name": "stderr",
     "output_type": "stream",
     "text": [
      "C:\\Users\\sass9\\anaconda3\\lib\\site-packages\\pandas\\core\\indexing.py:670: SettingWithCopyWarning: \n",
      "A value is trying to be set on a copy of a slice from a DataFrame\n",
      "\n",
      "See the caveats in the documentation: https://pandas.pydata.org/pandas-docs/stable/user_guide/indexing.html#returning-a-view-versus-a-copy\n",
      "  iloc._setitem_with_indexer(indexer, value)\n"
     ]
    },
    {
     "data": {
      "text/html": [
       "<div>\n",
       "<style scoped>\n",
       "    .dataframe tbody tr th:only-of-type {\n",
       "        vertical-align: middle;\n",
       "    }\n",
       "\n",
       "    .dataframe tbody tr th {\n",
       "        vertical-align: top;\n",
       "    }\n",
       "\n",
       "    .dataframe thead th {\n",
       "        text-align: right;\n",
       "    }\n",
       "</style>\n",
       "<table border=\"1\" class=\"dataframe\">\n",
       "  <thead>\n",
       "    <tr style=\"text-align: right;\">\n",
       "      <th></th>\n",
       "      <th>ask</th>\n",
       "      <th>bid</th>\n",
       "      <th>prediction</th>\n",
       "      <th>shares_held</th>\n",
       "      <th>ask_change</th>\n",
       "      <th>bid_change</th>\n",
       "      <th>return</th>\n",
       "      <th>shares_held_change</th>\n",
       "      <th>profit</th>\n",
       "      <th>cumulative_profit</th>\n",
       "      <th>relative_return</th>\n",
       "      <th>cumulative_relative_return</th>\n",
       "    </tr>\n",
       "  </thead>\n",
       "  <tbody>\n",
       "    <tr>\n",
       "      <th>99</th>\n",
       "      <td>0.2684</td>\n",
       "      <td>0.2679</td>\n",
       "      <td>0</td>\n",
       "      <td>0.0</td>\n",
       "      <td>NaN</td>\n",
       "      <td>NaN</td>\n",
       "      <td>0.0000</td>\n",
       "      <td>0.0</td>\n",
       "      <td>0.2684</td>\n",
       "      <td>0.2684</td>\n",
       "      <td>0.000000</td>\n",
       "      <td>1.000000</td>\n",
       "    </tr>\n",
       "    <tr>\n",
       "      <th>100</th>\n",
       "      <td>0.2684</td>\n",
       "      <td>0.2679</td>\n",
       "      <td>0</td>\n",
       "      <td>0.0</td>\n",
       "      <td>0.0000</td>\n",
       "      <td>0.0000</td>\n",
       "      <td>0.0000</td>\n",
       "      <td>0.0</td>\n",
       "      <td>0.0000</td>\n",
       "      <td>0.2684</td>\n",
       "      <td>0.000000</td>\n",
       "      <td>1.000000</td>\n",
       "    </tr>\n",
       "    <tr>\n",
       "      <th>101</th>\n",
       "      <td>0.2684</td>\n",
       "      <td>0.2679</td>\n",
       "      <td>0</td>\n",
       "      <td>0.0</td>\n",
       "      <td>0.0000</td>\n",
       "      <td>0.0000</td>\n",
       "      <td>0.0000</td>\n",
       "      <td>0.0</td>\n",
       "      <td>0.0000</td>\n",
       "      <td>0.2684</td>\n",
       "      <td>0.000000</td>\n",
       "      <td>1.000000</td>\n",
       "    </tr>\n",
       "    <tr>\n",
       "      <th>102</th>\n",
       "      <td>0.2684</td>\n",
       "      <td>0.2679</td>\n",
       "      <td>2</td>\n",
       "      <td>0.0</td>\n",
       "      <td>0.0000</td>\n",
       "      <td>0.0000</td>\n",
       "      <td>0.0000</td>\n",
       "      <td>0.0</td>\n",
       "      <td>0.0000</td>\n",
       "      <td>0.2684</td>\n",
       "      <td>0.000000</td>\n",
       "      <td>1.000000</td>\n",
       "    </tr>\n",
       "    <tr>\n",
       "      <th>103</th>\n",
       "      <td>0.2683</td>\n",
       "      <td>0.2679</td>\n",
       "      <td>2</td>\n",
       "      <td>0.0</td>\n",
       "      <td>-0.0001</td>\n",
       "      <td>0.0000</td>\n",
       "      <td>0.0000</td>\n",
       "      <td>1.0</td>\n",
       "      <td>0.0000</td>\n",
       "      <td>0.2684</td>\n",
       "      <td>0.000000</td>\n",
       "      <td>1.000000</td>\n",
       "    </tr>\n",
       "    <tr>\n",
       "      <th>104</th>\n",
       "      <td>0.2683</td>\n",
       "      <td>0.2679</td>\n",
       "      <td>2</td>\n",
       "      <td>1.0</td>\n",
       "      <td>0.0000</td>\n",
       "      <td>0.0000</td>\n",
       "      <td>0.0000</td>\n",
       "      <td>0.0</td>\n",
       "      <td>0.0000</td>\n",
       "      <td>0.2684</td>\n",
       "      <td>0.000000</td>\n",
       "      <td>1.000000</td>\n",
       "    </tr>\n",
       "    <tr>\n",
       "      <th>105</th>\n",
       "      <td>0.2681</td>\n",
       "      <td>0.2678</td>\n",
       "      <td>2</td>\n",
       "      <td>1.0</td>\n",
       "      <td>-0.0002</td>\n",
       "      <td>-0.0001</td>\n",
       "      <td>-0.0001</td>\n",
       "      <td>0.0</td>\n",
       "      <td>-0.0001</td>\n",
       "      <td>0.2683</td>\n",
       "      <td>-0.000373</td>\n",
       "      <td>0.999627</td>\n",
       "    </tr>\n",
       "    <tr>\n",
       "      <th>106</th>\n",
       "      <td>0.2681</td>\n",
       "      <td>0.2678</td>\n",
       "      <td>2</td>\n",
       "      <td>1.0</td>\n",
       "      <td>0.0000</td>\n",
       "      <td>0.0000</td>\n",
       "      <td>0.0000</td>\n",
       "      <td>-2.0</td>\n",
       "      <td>0.0000</td>\n",
       "      <td>0.2683</td>\n",
       "      <td>0.000000</td>\n",
       "      <td>0.999627</td>\n",
       "    </tr>\n",
       "    <tr>\n",
       "      <th>107</th>\n",
       "      <td>0.2681</td>\n",
       "      <td>0.2675</td>\n",
       "      <td>2</td>\n",
       "      <td>-1.0</td>\n",
       "      <td>0.0000</td>\n",
       "      <td>-0.0003</td>\n",
       "      <td>-0.0000</td>\n",
       "      <td>0.0</td>\n",
       "      <td>-0.0000</td>\n",
       "      <td>0.2683</td>\n",
       "      <td>0.000000</td>\n",
       "      <td>0.999627</td>\n",
       "    </tr>\n",
       "    <tr>\n",
       "      <th>108</th>\n",
       "      <td>0.2679</td>\n",
       "      <td>0.2675</td>\n",
       "      <td>2</td>\n",
       "      <td>-1.0</td>\n",
       "      <td>-0.0002</td>\n",
       "      <td>0.0000</td>\n",
       "      <td>0.0002</td>\n",
       "      <td>0.0</td>\n",
       "      <td>0.0002</td>\n",
       "      <td>0.2685</td>\n",
       "      <td>0.000745</td>\n",
       "      <td>1.000373</td>\n",
       "    </tr>\n",
       "    <tr>\n",
       "      <th>109</th>\n",
       "      <td>0.2678</td>\n",
       "      <td>0.2675</td>\n",
       "      <td>2</td>\n",
       "      <td>-1.0</td>\n",
       "      <td>-0.0001</td>\n",
       "      <td>0.0000</td>\n",
       "      <td>0.0001</td>\n",
       "      <td>0.0</td>\n",
       "      <td>0.0001</td>\n",
       "      <td>0.2686</td>\n",
       "      <td>0.000372</td>\n",
       "      <td>1.000745</td>\n",
       "    </tr>\n",
       "    <tr>\n",
       "      <th>110</th>\n",
       "      <td>0.2678</td>\n",
       "      <td>0.2675</td>\n",
       "      <td>2</td>\n",
       "      <td>-1.0</td>\n",
       "      <td>0.0000</td>\n",
       "      <td>0.0000</td>\n",
       "      <td>-0.0000</td>\n",
       "      <td>0.0</td>\n",
       "      <td>-0.0000</td>\n",
       "      <td>0.2686</td>\n",
       "      <td>0.000000</td>\n",
       "      <td>1.000745</td>\n",
       "    </tr>\n",
       "    <tr>\n",
       "      <th>111</th>\n",
       "      <td>0.2678</td>\n",
       "      <td>0.2674</td>\n",
       "      <td>2</td>\n",
       "      <td>-1.0</td>\n",
       "      <td>0.0000</td>\n",
       "      <td>-0.0001</td>\n",
       "      <td>-0.0000</td>\n",
       "      <td>0.0</td>\n",
       "      <td>-0.0000</td>\n",
       "      <td>0.2686</td>\n",
       "      <td>0.000000</td>\n",
       "      <td>1.000745</td>\n",
       "    </tr>\n",
       "    <tr>\n",
       "      <th>112</th>\n",
       "      <td>0.2677</td>\n",
       "      <td>0.2674</td>\n",
       "      <td>2</td>\n",
       "      <td>-1.0</td>\n",
       "      <td>-0.0001</td>\n",
       "      <td>0.0000</td>\n",
       "      <td>0.0001</td>\n",
       "      <td>0.0</td>\n",
       "      <td>0.0001</td>\n",
       "      <td>0.2687</td>\n",
       "      <td>0.000372</td>\n",
       "      <td>1.001118</td>\n",
       "    </tr>\n",
       "    <tr>\n",
       "      <th>113</th>\n",
       "      <td>0.2677</td>\n",
       "      <td>0.2671</td>\n",
       "      <td>2</td>\n",
       "      <td>-1.0</td>\n",
       "      <td>0.0000</td>\n",
       "      <td>-0.0003</td>\n",
       "      <td>-0.0000</td>\n",
       "      <td>0.0</td>\n",
       "      <td>-0.0000</td>\n",
       "      <td>0.2687</td>\n",
       "      <td>0.000000</td>\n",
       "      <td>1.001118</td>\n",
       "    </tr>\n",
       "    <tr>\n",
       "      <th>114</th>\n",
       "      <td>0.2677</td>\n",
       "      <td>0.2671</td>\n",
       "      <td>2</td>\n",
       "      <td>-1.0</td>\n",
       "      <td>0.0000</td>\n",
       "      <td>0.0000</td>\n",
       "      <td>-0.0000</td>\n",
       "      <td>0.0</td>\n",
       "      <td>-0.0000</td>\n",
       "      <td>0.2687</td>\n",
       "      <td>0.000000</td>\n",
       "      <td>1.001118</td>\n",
       "    </tr>\n",
       "    <tr>\n",
       "      <th>115</th>\n",
       "      <td>0.2675</td>\n",
       "      <td>0.2671</td>\n",
       "      <td>2</td>\n",
       "      <td>-1.0</td>\n",
       "      <td>-0.0002</td>\n",
       "      <td>0.0000</td>\n",
       "      <td>0.0002</td>\n",
       "      <td>0.0</td>\n",
       "      <td>0.0002</td>\n",
       "      <td>0.2689</td>\n",
       "      <td>0.000744</td>\n",
       "      <td>1.001863</td>\n",
       "    </tr>\n",
       "    <tr>\n",
       "      <th>116</th>\n",
       "      <td>0.2674</td>\n",
       "      <td>0.2671</td>\n",
       "      <td>2</td>\n",
       "      <td>-1.0</td>\n",
       "      <td>-0.0001</td>\n",
       "      <td>0.0000</td>\n",
       "      <td>0.0001</td>\n",
       "      <td>0.0</td>\n",
       "      <td>0.0001</td>\n",
       "      <td>0.2690</td>\n",
       "      <td>0.000372</td>\n",
       "      <td>1.002235</td>\n",
       "    </tr>\n",
       "    <tr>\n",
       "      <th>117</th>\n",
       "      <td>0.2674</td>\n",
       "      <td>0.2671</td>\n",
       "      <td>2</td>\n",
       "      <td>-1.0</td>\n",
       "      <td>0.0000</td>\n",
       "      <td>0.0000</td>\n",
       "      <td>-0.0000</td>\n",
       "      <td>0.0</td>\n",
       "      <td>-0.0000</td>\n",
       "      <td>0.2690</td>\n",
       "      <td>0.000000</td>\n",
       "      <td>1.002235</td>\n",
       "    </tr>\n",
       "    <tr>\n",
       "      <th>118</th>\n",
       "      <td>0.2674</td>\n",
       "      <td>0.2671</td>\n",
       "      <td>2</td>\n",
       "      <td>-1.0</td>\n",
       "      <td>0.0000</td>\n",
       "      <td>0.0000</td>\n",
       "      <td>-0.0000</td>\n",
       "      <td>0.0</td>\n",
       "      <td>-0.0000</td>\n",
       "      <td>0.2690</td>\n",
       "      <td>0.000000</td>\n",
       "      <td>1.002235</td>\n",
       "    </tr>\n",
       "  </tbody>\n",
       "</table>\n",
       "</div>"
      ],
      "text/plain": [
       "        ask     bid  prediction  shares_held  ask_change  bid_change  return  \\\n",
       "99   0.2684  0.2679           0          0.0         NaN         NaN  0.0000   \n",
       "100  0.2684  0.2679           0          0.0      0.0000      0.0000  0.0000   \n",
       "101  0.2684  0.2679           0          0.0      0.0000      0.0000  0.0000   \n",
       "102  0.2684  0.2679           2          0.0      0.0000      0.0000  0.0000   \n",
       "103  0.2683  0.2679           2          0.0     -0.0001      0.0000  0.0000   \n",
       "104  0.2683  0.2679           2          1.0      0.0000      0.0000  0.0000   \n",
       "105  0.2681  0.2678           2          1.0     -0.0002     -0.0001 -0.0001   \n",
       "106  0.2681  0.2678           2          1.0      0.0000      0.0000  0.0000   \n",
       "107  0.2681  0.2675           2         -1.0      0.0000     -0.0003 -0.0000   \n",
       "108  0.2679  0.2675           2         -1.0     -0.0002      0.0000  0.0002   \n",
       "109  0.2678  0.2675           2         -1.0     -0.0001      0.0000  0.0001   \n",
       "110  0.2678  0.2675           2         -1.0      0.0000      0.0000 -0.0000   \n",
       "111  0.2678  0.2674           2         -1.0      0.0000     -0.0001 -0.0000   \n",
       "112  0.2677  0.2674           2         -1.0     -0.0001      0.0000  0.0001   \n",
       "113  0.2677  0.2671           2         -1.0      0.0000     -0.0003 -0.0000   \n",
       "114  0.2677  0.2671           2         -1.0      0.0000      0.0000 -0.0000   \n",
       "115  0.2675  0.2671           2         -1.0     -0.0002      0.0000  0.0002   \n",
       "116  0.2674  0.2671           2         -1.0     -0.0001      0.0000  0.0001   \n",
       "117  0.2674  0.2671           2         -1.0      0.0000      0.0000 -0.0000   \n",
       "118  0.2674  0.2671           2         -1.0      0.0000      0.0000 -0.0000   \n",
       "\n",
       "     shares_held_change  profit  cumulative_profit  relative_return  \\\n",
       "99                  0.0  0.2684             0.2684         0.000000   \n",
       "100                 0.0  0.0000             0.2684         0.000000   \n",
       "101                 0.0  0.0000             0.2684         0.000000   \n",
       "102                 0.0  0.0000             0.2684         0.000000   \n",
       "103                 1.0  0.0000             0.2684         0.000000   \n",
       "104                 0.0  0.0000             0.2684         0.000000   \n",
       "105                 0.0 -0.0001             0.2683        -0.000373   \n",
       "106                -2.0  0.0000             0.2683         0.000000   \n",
       "107                 0.0 -0.0000             0.2683         0.000000   \n",
       "108                 0.0  0.0002             0.2685         0.000745   \n",
       "109                 0.0  0.0001             0.2686         0.000372   \n",
       "110                 0.0 -0.0000             0.2686         0.000000   \n",
       "111                 0.0 -0.0000             0.2686         0.000000   \n",
       "112                 0.0  0.0001             0.2687         0.000372   \n",
       "113                 0.0 -0.0000             0.2687         0.000000   \n",
       "114                 0.0 -0.0000             0.2687         0.000000   \n",
       "115                 0.0  0.0002             0.2689         0.000744   \n",
       "116                 0.0  0.0001             0.2690         0.000372   \n",
       "117                 0.0 -0.0000             0.2690         0.000000   \n",
       "118                 0.0 -0.0000             0.2690         0.000000   \n",
       "\n",
       "     cumulative_relative_return  \n",
       "99                     1.000000  \n",
       "100                    1.000000  \n",
       "101                    1.000000  \n",
       "102                    1.000000  \n",
       "103                    1.000000  \n",
       "104                    1.000000  \n",
       "105                    0.999627  \n",
       "106                    0.999627  \n",
       "107                    0.999627  \n",
       "108                    1.000373  \n",
       "109                    1.000745  \n",
       "110                    1.000745  \n",
       "111                    1.000745  \n",
       "112                    1.001118  \n",
       "113                    1.001118  \n",
       "114                    1.001118  \n",
       "115                    1.001863  \n",
       "116                    1.002235  \n",
       "117                    1.002235  \n",
       "118                    1.002235  "
      ]
     },
     "execution_count": 36,
     "metadata": {},
     "output_type": "execute_result"
    },
    {
     "data": {
      "image/png": "[encoded data removed]",
      "text/plain": [
       "<Figure size 432x288 with 1 Axes>"
      ]
     },
     "metadata": {
      "needs_background": "light"
     },
     "output_type": "display_data"
    }
   ],
   "source": [
    "df = pd.DataFrame(data=lob_data[f\"asset_{asset}\"][:, [0,2]], columns=[ \"ask\", \"bid\"])\n",
    "df = df.iloc[T-1: , :]\n",
    "df[\"prediction\"] = preds\n",
    "\n",
    "df[\"shares_held\"] = np.nan\n",
    "df.loc[df[\"prediction\"] == 0, \"shares_held\"] = 1\n",
    "df.loc[df[\"prediction\"] == 2, \"shares_held\"] = -1\n",
    "df[\"shares_held\"] = df[\"shares_held\"].shift(5, fill_value=0)\n",
    "df[\"shares_held\"].fillna(method=\"ffill\", inplace=True)\n",
    "\n",
    "df[\"ask_change\"] = df[\"ask\"] - df[\"ask\"].shift(1)\n",
    "df[\"bid_change\"] = df[\"bid\"] - df[\"bid\"].shift(1)\n",
    "\n",
    "df[\"return\"] = 0\n",
    "df.loc[df[\"shares_held\"] > 0, \"return\"] = df[\"bid_change\"]\n",
    "df.loc[df[\"shares_held\"] < 0, \"return\"] = - df[\"ask_change\"]\n",
    "\n",
    "df[\"shares_held_change\"] = df[\"shares_held\"].shift(-1, fill_value=0) - df[\"shares_held\"]\n",
    "#df[\"cost\"] = df[\"shares_held_change\"] * (df[\"ask\"] - df[\"bid\"]) * (df[\"shares_held_change\"] > 0)\n",
    "\n",
    "df[\"profit\"] = df[\"return\"].copy()\n",
    "df[\"profit\"].iloc[0] = df[\"ask\"].iloc[0].copy()\n",
    "df[\"cumulative_profit\"] = df[\"profit\"].cumsum()\n",
    "\n",
    "df[\"relative_return\"] = (df[\"cumulative_profit\"] - df[\"cumulative_profit\"].shift(1)) / df[\"cumulative_profit\"].shift(1)\n",
    "df[\"relative_return\"].iloc[0] = 0\n",
    "df[\"cumulative_relative_return\"] = (1 + df[\"relative_return\"]).cumprod()\n",
    "\n",
    "df[\"cumulative_profit\"].plot()\n",
    "#df[\"cumulative_relative_return\"].plot()\n",
    "\n",
    "df.head(20)"
   ]
  },
  {
   "cell_type": "code",
   "execution_count": 24,
   "metadata": {},
   "outputs": [
    {
     "data": {
      "text/plain": [
       "<AxesSubplot:>"
      ]
     },
     "execution_count": 24,
     "metadata": {},
     "output_type": "execute_result"
    },
    {
     "data": {
      "image/png": "[encoded data removed]",
      "text/plain": [
       "<Figure size 432x288 with 1 Axes>"
      ]
     },
     "metadata": {
      "needs_background": "light"
     },
     "output_type": "display_data"
    }
   ],
   "source": [
    "df[\"ask\"].plot()"
   ]
  },
  {
   "cell_type": "code",
   "execution_count": 34,
   "metadata": {},
   "outputs": [
    {
     "data": {
      "text/plain": [
       "<AxesSubplot:>"
      ]
     },
     "execution_count": 34,
     "metadata": {},
     "output_type": "execute_result"
    },
    {
     "data": {
      "image/png": "[encoded data removed]",
      "text/plain": [
       "<Figure size 432x288 with 1 Axes>"
      ]
     },
     "metadata": {
      "needs_background": "light"
     },
     "output_type": "display_data"
    }
   ],
   "source": [
    "df[\"HODL\"] = (1 + (df[\"ask_change\"] / df[\"ask\"].shift(1))).cumprod()"
   ]
  },
  {
   "cell_type": "code",
   "execution_count": 22,
   "metadata": {},
   "outputs": [
    {
     "data": {
      "text/plain": [
       "-0.005800000000000027"
      ]
     },
     "execution_count": 22,
     "metadata": {},
     "output_type": "execute_result"
    }
   ],
   "source": [
    "df[\"cumulative_profit\"].iloc[-1]"
   ]
  },
  {
   "cell_type": "code",
   "execution_count": 17,
   "metadata": {},
   "outputs": [
    {
     "data": {
      "text/plain": [
       "RangeIndex(start=99, stop=1873, step=1)"
      ]
     },
     "execution_count": 17,
     "metadata": {},
     "output_type": "execute_result"
    }
   ],
   "source": [
    "df.index"
   ]
  },
  {
   "cell_type": "code",
   "execution_count": 18,
   "metadata": {},
   "outputs": [
    {
     "ename": "TypeError",
     "evalue": "Index does not support mutable operations",
     "output_type": "error",
     "traceback": [
      "\u001b[1;31m---------------------------------------------------------------------------\u001b[0m",
      "\u001b[1;31mTypeError\u001b[0m                                 Traceback (most recent call last)",
      "\u001b[1;32m<ipython-input-18-cf98a131a353>\u001b[0m in \u001b[0;36m<module>\u001b[1;34m\u001b[0m\n\u001b[1;32m----> 1\u001b[1;33m \u001b[0mdf\u001b[0m\u001b[1;33m.\u001b[0m\u001b[0mindex\u001b[0m\u001b[1;33m[\u001b[0m\u001b[1;36m0\u001b[0m\u001b[1;33m]\u001b[0m \u001b[1;33m=\u001b[0m \u001b[1;36m1\u001b[0m\u001b[1;33m\u001b[0m\u001b[1;33m\u001b[0m\u001b[0m\n\u001b[0m",
      "\u001b[1;32m~\\anaconda3\\lib\\site-packages\\pandas\\core\\indexes\\base.py\u001b[0m in \u001b[0;36m__setitem__\u001b[1;34m(self, key, value)\u001b[0m\n\u001b[0;32m   4079\u001b[0m \u001b[1;33m\u001b[0m\u001b[0m\n\u001b[0;32m   4080\u001b[0m     \u001b[1;32mdef\u001b[0m \u001b[0m__setitem__\u001b[0m\u001b[1;33m(\u001b[0m\u001b[0mself\u001b[0m\u001b[1;33m,\u001b[0m \u001b[0mkey\u001b[0m\u001b[1;33m,\u001b[0m \u001b[0mvalue\u001b[0m\u001b[1;33m)\u001b[0m\u001b[1;33m:\u001b[0m\u001b[1;33m\u001b[0m\u001b[1;33m\u001b[0m\u001b[0m\n\u001b[1;32m-> 4081\u001b[1;33m         \u001b[1;32mraise\u001b[0m \u001b[0mTypeError\u001b[0m\u001b[1;33m(\u001b[0m\u001b[1;34m\"Index does not support mutable operations\"\u001b[0m\u001b[1;33m)\u001b[0m\u001b[1;33m\u001b[0m\u001b[1;33m\u001b[0m\u001b[0m\n\u001b[0m\u001b[0;32m   4082\u001b[0m \u001b[1;33m\u001b[0m\u001b[0m\n\u001b[0;32m   4083\u001b[0m     \u001b[1;32mdef\u001b[0m \u001b[0m__getitem__\u001b[0m\u001b[1;33m(\u001b[0m\u001b[0mself\u001b[0m\u001b[1;33m,\u001b[0m \u001b[0mkey\u001b[0m\u001b[1;33m)\u001b[0m\u001b[1;33m:\u001b[0m\u001b[1;33m\u001b[0m\u001b[1;33m\u001b[0m\u001b[0m\n",
      "\u001b[1;31mTypeError\u001b[0m: Index does not support mutable operations"
     ]
    }
   ],
   "source": [
    "df.index[0] = 1"
   ]
  },
  {
   "cell_type": "code",
   "execution_count": 21,
   "metadata": {},
   "outputs": [
    {
     "data": {
      "text/plain": [
       "1.0"
      ]
     },
     "execution_count": 21,
     "metadata": {},
     "output_type": "execute_result"
    }
   ],
   "source": [
    "df[\"shares_held_change\"].iloc[-1]"
   ]
  },
  {
   "cell_type": "code",
   "execution_count": null,
   "metadata": {},
   "outputs": [],
   "source": []
  }
 ],
 "metadata": {
  "kernelspec": {
   "display_name": "Python 3",
   "language": "python",
   "name": "python3"
  },
  "language_info": {
   "codemirror_mode": {
    "name": "ipython",
    "version": 3
   },
   "file_extension": ".py",
   "mimetype": "text/x-python",
   "name": "python",
   "nbconvert_exporter": "python",
   "pygments_lexer": "ipython3",
   "version": "3.8.5"
  }
 },
 "nbformat": 4,
 "nbformat_minor": 4
}
